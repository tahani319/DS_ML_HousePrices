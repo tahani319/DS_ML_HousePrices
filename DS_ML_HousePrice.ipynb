{
  "nbformat": 4,
  "nbformat_minor": 0,
  "metadata": {
    "colab": {
      "name": "DS.ML.HousePrice.ipynb",
      "provenance": [],
      "toc_visible": true,
      "authorship_tag": "ABX9TyOxYIWIQhXYmCUSEdnazmQl",
      "include_colab_link": true
    },
    "kernelspec": {
      "name": "python3",
      "display_name": "Python 3"
    }
  },
  "cells": [
    {
      "cell_type": "markdown",
      "metadata": {
        "id": "view-in-github",
        "colab_type": "text"
      },
      "source": [
        "<a href=\"https://colab.research.google.com/github/tahani319/DS_ML_HousePrices/blob/main/DS_ML_HousePrice.ipynb\" target=\"_parent\"><img src=\"https://colab.research.google.com/assets/colab-badge.svg\" alt=\"Open In Colab\"/></a>"
      ]
    },
    {
      "cell_type": "markdown",
      "metadata": {
        "id": "EsXgB5iebY6G"
      },
      "source": [
        ""
      ]
    },
    {
      "cell_type": "markdown",
      "metadata": {
        "id": "NzsTbBv-ba58"
      },
      "source": [
        "### 02/12/2020 \n",
        "\n",
        "###DS_ML_HousePrice  "
      ]
    },
    {
      "cell_type": "markdown",
      "metadata": {
        "id": "AzmaEW3Hb-bk"
      },
      "source": [
        "#### data from: https://www.kaggle.com/shree1992/housedata\n",
        "####the data contains information  about houses in USA \n",
        "####it contains 18 variables and 4600 observation.\n",
        "####my main goal is to building a model to predict the price of a house \n",
        "####based on specific features of the house using different algorithim i have learned."
      ]
    },
    {
      "cell_type": "markdown",
      "metadata": {
        "id": "HRhiLACfsME8"
      },
      "source": [
        "##EDA"
      ]
    },
    {
      "cell_type": "markdown",
      "metadata": {
        "id": "80I6a-wkcz7r"
      },
      "source": [
        "#####so i start with EDA to understand my data :"
      ]
    },
    {
      "cell_type": "markdown",
      "metadata": {
        "id": "mXmfuf9Yc90T"
      },
      "source": [
        "load packages:"
      ]
    },
    {
      "cell_type": "code",
      "metadata": {
        "id": "tpsSOaGOdBQ1"
      },
      "source": [
        "\n",
        "# Helper packages\n",
        "import numpy as np\n",
        "import pandas as pd\n",
        "from plotnine import ggplot, aes, geom_density, geom_line, geom_point, ggtitle\n",
        "import math\n",
        "import matplotlib.pyplot  as plt\n",
        "import seaborn as sns\n",
        "%matplotlib inline\n",
        "# Modeling preprocessing\n",
        "from sklearn.preprocessing import StandardScaler\n",
        "from sklearn.preprocessing import MinMaxScaler\n",
        "from sklearn.model_selection import train_test_split\n",
        "from sklearn.preprocessing import OneHotEncoder\n",
        "from sklearn.compose import ColumnTransformer\n",
        "from sklearn.compose import make_column_selector as selector\n",
        "from sklearn.pipeline import Pipeline\n",
        "from sklearn.preprocessing import Normalizer\n",
        "\n",
        "# Modeling and resampling\n",
        "from sklearn.neighbors import KNeighborsRegressor\n",
        "from sklearn.model_selection import GridSearchCV\n",
        "from sklearn.model_selection import RepeatedKFold\n",
        "\n",
        " \n"
      ],
      "execution_count": 124,
      "outputs": []
    },
    {
      "cell_type": "markdown",
      "metadata": {
        "id": "VvSaAPvUd5xr"
      },
      "source": [
        "data"
      ]
    },
    {
      "cell_type": "code",
      "metadata": {
        "id": "E8g3OKzGeAzC"
      },
      "source": [
        "house = pd.read_csv('data.csv') \n"
      ],
      "execution_count": 125,
      "outputs": []
    },
    {
      "cell_type": "markdown",
      "metadata": {
        "id": "XzFNzpq6nTH2"
      },
      "source": [
        "Explore data : "
      ]
    },
    {
      "cell_type": "code",
      "metadata": {
        "colab": {
          "base_uri": "https://localhost:8080/",
          "height": 411
        },
        "id": "WwULJovxm6xd",
        "outputId": "3727aa42-ad17-4cf2-8eb5-961dd4e10b4b"
      },
      "source": [
        "house.head()"
      ],
      "execution_count": 126,
      "outputs": [
        {
          "output_type": "execute_result",
          "data": {
            "text/html": [
              "<div>\n",
              "<style scoped>\n",
              "    .dataframe tbody tr th:only-of-type {\n",
              "        vertical-align: middle;\n",
              "    }\n",
              "\n",
              "    .dataframe tbody tr th {\n",
              "        vertical-align: top;\n",
              "    }\n",
              "\n",
              "    .dataframe thead th {\n",
              "        text-align: right;\n",
              "    }\n",
              "</style>\n",
              "<table border=\"1\" class=\"dataframe\">\n",
              "  <thead>\n",
              "    <tr style=\"text-align: right;\">\n",
              "      <th></th>\n",
              "      <th>date</th>\n",
              "      <th>price</th>\n",
              "      <th>bedrooms</th>\n",
              "      <th>bathrooms</th>\n",
              "      <th>sqft_living</th>\n",
              "      <th>sqft_lot</th>\n",
              "      <th>floors</th>\n",
              "      <th>waterfront</th>\n",
              "      <th>view</th>\n",
              "      <th>condition</th>\n",
              "      <th>sqft_above</th>\n",
              "      <th>sqft_basement</th>\n",
              "      <th>yr_built</th>\n",
              "      <th>yr_renovated</th>\n",
              "      <th>street</th>\n",
              "      <th>city</th>\n",
              "      <th>statezip</th>\n",
              "      <th>country</th>\n",
              "    </tr>\n",
              "  </thead>\n",
              "  <tbody>\n",
              "    <tr>\n",
              "      <th>0</th>\n",
              "      <td>2014-05-02 00:00:00</td>\n",
              "      <td>313000.0</td>\n",
              "      <td>3.0</td>\n",
              "      <td>1.50</td>\n",
              "      <td>1340</td>\n",
              "      <td>7912</td>\n",
              "      <td>1.5</td>\n",
              "      <td>0</td>\n",
              "      <td>0</td>\n",
              "      <td>3</td>\n",
              "      <td>1340</td>\n",
              "      <td>0</td>\n",
              "      <td>1955</td>\n",
              "      <td>2005</td>\n",
              "      <td>18810 Densmore Ave N</td>\n",
              "      <td>Shoreline</td>\n",
              "      <td>WA 98133</td>\n",
              "      <td>USA</td>\n",
              "    </tr>\n",
              "    <tr>\n",
              "      <th>1</th>\n",
              "      <td>2014-05-02 00:00:00</td>\n",
              "      <td>2384000.0</td>\n",
              "      <td>5.0</td>\n",
              "      <td>2.50</td>\n",
              "      <td>3650</td>\n",
              "      <td>9050</td>\n",
              "      <td>2.0</td>\n",
              "      <td>0</td>\n",
              "      <td>4</td>\n",
              "      <td>5</td>\n",
              "      <td>3370</td>\n",
              "      <td>280</td>\n",
              "      <td>1921</td>\n",
              "      <td>0</td>\n",
              "      <td>709 W Blaine St</td>\n",
              "      <td>Seattle</td>\n",
              "      <td>WA 98119</td>\n",
              "      <td>USA</td>\n",
              "    </tr>\n",
              "    <tr>\n",
              "      <th>2</th>\n",
              "      <td>2014-05-02 00:00:00</td>\n",
              "      <td>342000.0</td>\n",
              "      <td>3.0</td>\n",
              "      <td>2.00</td>\n",
              "      <td>1930</td>\n",
              "      <td>11947</td>\n",
              "      <td>1.0</td>\n",
              "      <td>0</td>\n",
              "      <td>0</td>\n",
              "      <td>4</td>\n",
              "      <td>1930</td>\n",
              "      <td>0</td>\n",
              "      <td>1966</td>\n",
              "      <td>0</td>\n",
              "      <td>26206-26214 143rd Ave SE</td>\n",
              "      <td>Kent</td>\n",
              "      <td>WA 98042</td>\n",
              "      <td>USA</td>\n",
              "    </tr>\n",
              "    <tr>\n",
              "      <th>3</th>\n",
              "      <td>2014-05-02 00:00:00</td>\n",
              "      <td>420000.0</td>\n",
              "      <td>3.0</td>\n",
              "      <td>2.25</td>\n",
              "      <td>2000</td>\n",
              "      <td>8030</td>\n",
              "      <td>1.0</td>\n",
              "      <td>0</td>\n",
              "      <td>0</td>\n",
              "      <td>4</td>\n",
              "      <td>1000</td>\n",
              "      <td>1000</td>\n",
              "      <td>1963</td>\n",
              "      <td>0</td>\n",
              "      <td>857 170th Pl NE</td>\n",
              "      <td>Bellevue</td>\n",
              "      <td>WA 98008</td>\n",
              "      <td>USA</td>\n",
              "    </tr>\n",
              "    <tr>\n",
              "      <th>4</th>\n",
              "      <td>2014-05-02 00:00:00</td>\n",
              "      <td>550000.0</td>\n",
              "      <td>4.0</td>\n",
              "      <td>2.50</td>\n",
              "      <td>1940</td>\n",
              "      <td>10500</td>\n",
              "      <td>1.0</td>\n",
              "      <td>0</td>\n",
              "      <td>0</td>\n",
              "      <td>4</td>\n",
              "      <td>1140</td>\n",
              "      <td>800</td>\n",
              "      <td>1976</td>\n",
              "      <td>1992</td>\n",
              "      <td>9105 170th Ave NE</td>\n",
              "      <td>Redmond</td>\n",
              "      <td>WA 98052</td>\n",
              "      <td>USA</td>\n",
              "    </tr>\n",
              "  </tbody>\n",
              "</table>\n",
              "</div>"
            ],
            "text/plain": [
              "                  date      price  bedrooms  ...       city  statezip  country\n",
              "0  2014-05-02 00:00:00   313000.0       3.0  ...  Shoreline  WA 98133      USA\n",
              "1  2014-05-02 00:00:00  2384000.0       5.0  ...    Seattle  WA 98119      USA\n",
              "2  2014-05-02 00:00:00   342000.0       3.0  ...       Kent  WA 98042      USA\n",
              "3  2014-05-02 00:00:00   420000.0       3.0  ...   Bellevue  WA 98008      USA\n",
              "4  2014-05-02 00:00:00   550000.0       4.0  ...    Redmond  WA 98052      USA\n",
              "\n",
              "[5 rows x 18 columns]"
            ]
          },
          "metadata": {
            "tags": []
          },
          "execution_count": 126
        }
      ]
    },
    {
      "cell_type": "code",
      "metadata": {
        "colab": {
          "base_uri": "https://localhost:8080/",
          "height": 411
        },
        "id": "J7CrEQIOnCC6",
        "outputId": "98615bb8-4378-462a-cc44-edd1e45664ca"
      },
      "source": [
        "house.tail()"
      ],
      "execution_count": 127,
      "outputs": [
        {
          "output_type": "execute_result",
          "data": {
            "text/html": [
              "<div>\n",
              "<style scoped>\n",
              "    .dataframe tbody tr th:only-of-type {\n",
              "        vertical-align: middle;\n",
              "    }\n",
              "\n",
              "    .dataframe tbody tr th {\n",
              "        vertical-align: top;\n",
              "    }\n",
              "\n",
              "    .dataframe thead th {\n",
              "        text-align: right;\n",
              "    }\n",
              "</style>\n",
              "<table border=\"1\" class=\"dataframe\">\n",
              "  <thead>\n",
              "    <tr style=\"text-align: right;\">\n",
              "      <th></th>\n",
              "      <th>date</th>\n",
              "      <th>price</th>\n",
              "      <th>bedrooms</th>\n",
              "      <th>bathrooms</th>\n",
              "      <th>sqft_living</th>\n",
              "      <th>sqft_lot</th>\n",
              "      <th>floors</th>\n",
              "      <th>waterfront</th>\n",
              "      <th>view</th>\n",
              "      <th>condition</th>\n",
              "      <th>sqft_above</th>\n",
              "      <th>sqft_basement</th>\n",
              "      <th>yr_built</th>\n",
              "      <th>yr_renovated</th>\n",
              "      <th>street</th>\n",
              "      <th>city</th>\n",
              "      <th>statezip</th>\n",
              "      <th>country</th>\n",
              "    </tr>\n",
              "  </thead>\n",
              "  <tbody>\n",
              "    <tr>\n",
              "      <th>4595</th>\n",
              "      <td>2014-07-09 00:00:00</td>\n",
              "      <td>308166.666667</td>\n",
              "      <td>3.0</td>\n",
              "      <td>1.75</td>\n",
              "      <td>1510</td>\n",
              "      <td>6360</td>\n",
              "      <td>1.0</td>\n",
              "      <td>0</td>\n",
              "      <td>0</td>\n",
              "      <td>4</td>\n",
              "      <td>1510</td>\n",
              "      <td>0</td>\n",
              "      <td>1954</td>\n",
              "      <td>1979</td>\n",
              "      <td>501 N 143rd St</td>\n",
              "      <td>Seattle</td>\n",
              "      <td>WA 98133</td>\n",
              "      <td>USA</td>\n",
              "    </tr>\n",
              "    <tr>\n",
              "      <th>4596</th>\n",
              "      <td>2014-07-09 00:00:00</td>\n",
              "      <td>534333.333333</td>\n",
              "      <td>3.0</td>\n",
              "      <td>2.50</td>\n",
              "      <td>1460</td>\n",
              "      <td>7573</td>\n",
              "      <td>2.0</td>\n",
              "      <td>0</td>\n",
              "      <td>0</td>\n",
              "      <td>3</td>\n",
              "      <td>1460</td>\n",
              "      <td>0</td>\n",
              "      <td>1983</td>\n",
              "      <td>2009</td>\n",
              "      <td>14855 SE 10th Pl</td>\n",
              "      <td>Bellevue</td>\n",
              "      <td>WA 98007</td>\n",
              "      <td>USA</td>\n",
              "    </tr>\n",
              "    <tr>\n",
              "      <th>4597</th>\n",
              "      <td>2014-07-09 00:00:00</td>\n",
              "      <td>416904.166667</td>\n",
              "      <td>3.0</td>\n",
              "      <td>2.50</td>\n",
              "      <td>3010</td>\n",
              "      <td>7014</td>\n",
              "      <td>2.0</td>\n",
              "      <td>0</td>\n",
              "      <td>0</td>\n",
              "      <td>3</td>\n",
              "      <td>3010</td>\n",
              "      <td>0</td>\n",
              "      <td>2009</td>\n",
              "      <td>0</td>\n",
              "      <td>759 Ilwaco Pl NE</td>\n",
              "      <td>Renton</td>\n",
              "      <td>WA 98059</td>\n",
              "      <td>USA</td>\n",
              "    </tr>\n",
              "    <tr>\n",
              "      <th>4598</th>\n",
              "      <td>2014-07-10 00:00:00</td>\n",
              "      <td>203400.000000</td>\n",
              "      <td>4.0</td>\n",
              "      <td>2.00</td>\n",
              "      <td>2090</td>\n",
              "      <td>6630</td>\n",
              "      <td>1.0</td>\n",
              "      <td>0</td>\n",
              "      <td>0</td>\n",
              "      <td>3</td>\n",
              "      <td>1070</td>\n",
              "      <td>1020</td>\n",
              "      <td>1974</td>\n",
              "      <td>0</td>\n",
              "      <td>5148 S Creston St</td>\n",
              "      <td>Seattle</td>\n",
              "      <td>WA 98178</td>\n",
              "      <td>USA</td>\n",
              "    </tr>\n",
              "    <tr>\n",
              "      <th>4599</th>\n",
              "      <td>2014-07-10 00:00:00</td>\n",
              "      <td>220600.000000</td>\n",
              "      <td>3.0</td>\n",
              "      <td>2.50</td>\n",
              "      <td>1490</td>\n",
              "      <td>8102</td>\n",
              "      <td>2.0</td>\n",
              "      <td>0</td>\n",
              "      <td>0</td>\n",
              "      <td>4</td>\n",
              "      <td>1490</td>\n",
              "      <td>0</td>\n",
              "      <td>1990</td>\n",
              "      <td>0</td>\n",
              "      <td>18717 SE 258th St</td>\n",
              "      <td>Covington</td>\n",
              "      <td>WA 98042</td>\n",
              "      <td>USA</td>\n",
              "    </tr>\n",
              "  </tbody>\n",
              "</table>\n",
              "</div>"
            ],
            "text/plain": [
              "                     date          price  bedrooms  ...       city  statezip  country\n",
              "4595  2014-07-09 00:00:00  308166.666667       3.0  ...    Seattle  WA 98133      USA\n",
              "4596  2014-07-09 00:00:00  534333.333333       3.0  ...   Bellevue  WA 98007      USA\n",
              "4597  2014-07-09 00:00:00  416904.166667       3.0  ...     Renton  WA 98059      USA\n",
              "4598  2014-07-10 00:00:00  203400.000000       4.0  ...    Seattle  WA 98178      USA\n",
              "4599  2014-07-10 00:00:00  220600.000000       3.0  ...  Covington  WA 98042      USA\n",
              "\n",
              "[5 rows x 18 columns]"
            ]
          },
          "metadata": {
            "tags": []
          },
          "execution_count": 127
        }
      ]
    },
    {
      "cell_type": "code",
      "metadata": {
        "colab": {
          "base_uri": "https://localhost:8080/",
          "height": 317
        },
        "id": "a-Dz7EVCnHaN",
        "outputId": "b2949187-2540-46b9-9424-94c37edfb2c1"
      },
      "source": [
        "house.describe()"
      ],
      "execution_count": 128,
      "outputs": [
        {
          "output_type": "execute_result",
          "data": {
            "text/html": [
              "<div>\n",
              "<style scoped>\n",
              "    .dataframe tbody tr th:only-of-type {\n",
              "        vertical-align: middle;\n",
              "    }\n",
              "\n",
              "    .dataframe tbody tr th {\n",
              "        vertical-align: top;\n",
              "    }\n",
              "\n",
              "    .dataframe thead th {\n",
              "        text-align: right;\n",
              "    }\n",
              "</style>\n",
              "<table border=\"1\" class=\"dataframe\">\n",
              "  <thead>\n",
              "    <tr style=\"text-align: right;\">\n",
              "      <th></th>\n",
              "      <th>price</th>\n",
              "      <th>bedrooms</th>\n",
              "      <th>bathrooms</th>\n",
              "      <th>sqft_living</th>\n",
              "      <th>sqft_lot</th>\n",
              "      <th>floors</th>\n",
              "      <th>waterfront</th>\n",
              "      <th>view</th>\n",
              "      <th>condition</th>\n",
              "      <th>sqft_above</th>\n",
              "      <th>sqft_basement</th>\n",
              "      <th>yr_built</th>\n",
              "      <th>yr_renovated</th>\n",
              "    </tr>\n",
              "  </thead>\n",
              "  <tbody>\n",
              "    <tr>\n",
              "      <th>count</th>\n",
              "      <td>4.600000e+03</td>\n",
              "      <td>4600.000000</td>\n",
              "      <td>4600.000000</td>\n",
              "      <td>4600.000000</td>\n",
              "      <td>4.600000e+03</td>\n",
              "      <td>4600.000000</td>\n",
              "      <td>4600.000000</td>\n",
              "      <td>4600.000000</td>\n",
              "      <td>4600.000000</td>\n",
              "      <td>4600.000000</td>\n",
              "      <td>4600.000000</td>\n",
              "      <td>4600.000000</td>\n",
              "      <td>4600.000000</td>\n",
              "    </tr>\n",
              "    <tr>\n",
              "      <th>mean</th>\n",
              "      <td>5.519630e+05</td>\n",
              "      <td>3.400870</td>\n",
              "      <td>2.160815</td>\n",
              "      <td>2139.346957</td>\n",
              "      <td>1.485252e+04</td>\n",
              "      <td>1.512065</td>\n",
              "      <td>0.007174</td>\n",
              "      <td>0.240652</td>\n",
              "      <td>3.451739</td>\n",
              "      <td>1827.265435</td>\n",
              "      <td>312.081522</td>\n",
              "      <td>1970.786304</td>\n",
              "      <td>808.608261</td>\n",
              "    </tr>\n",
              "    <tr>\n",
              "      <th>std</th>\n",
              "      <td>5.638347e+05</td>\n",
              "      <td>0.908848</td>\n",
              "      <td>0.783781</td>\n",
              "      <td>963.206916</td>\n",
              "      <td>3.588444e+04</td>\n",
              "      <td>0.538288</td>\n",
              "      <td>0.084404</td>\n",
              "      <td>0.778405</td>\n",
              "      <td>0.677230</td>\n",
              "      <td>862.168977</td>\n",
              "      <td>464.137228</td>\n",
              "      <td>29.731848</td>\n",
              "      <td>979.414536</td>\n",
              "    </tr>\n",
              "    <tr>\n",
              "      <th>min</th>\n",
              "      <td>0.000000e+00</td>\n",
              "      <td>0.000000</td>\n",
              "      <td>0.000000</td>\n",
              "      <td>370.000000</td>\n",
              "      <td>6.380000e+02</td>\n",
              "      <td>1.000000</td>\n",
              "      <td>0.000000</td>\n",
              "      <td>0.000000</td>\n",
              "      <td>1.000000</td>\n",
              "      <td>370.000000</td>\n",
              "      <td>0.000000</td>\n",
              "      <td>1900.000000</td>\n",
              "      <td>0.000000</td>\n",
              "    </tr>\n",
              "    <tr>\n",
              "      <th>25%</th>\n",
              "      <td>3.228750e+05</td>\n",
              "      <td>3.000000</td>\n",
              "      <td>1.750000</td>\n",
              "      <td>1460.000000</td>\n",
              "      <td>5.000750e+03</td>\n",
              "      <td>1.000000</td>\n",
              "      <td>0.000000</td>\n",
              "      <td>0.000000</td>\n",
              "      <td>3.000000</td>\n",
              "      <td>1190.000000</td>\n",
              "      <td>0.000000</td>\n",
              "      <td>1951.000000</td>\n",
              "      <td>0.000000</td>\n",
              "    </tr>\n",
              "    <tr>\n",
              "      <th>50%</th>\n",
              "      <td>4.609435e+05</td>\n",
              "      <td>3.000000</td>\n",
              "      <td>2.250000</td>\n",
              "      <td>1980.000000</td>\n",
              "      <td>7.683000e+03</td>\n",
              "      <td>1.500000</td>\n",
              "      <td>0.000000</td>\n",
              "      <td>0.000000</td>\n",
              "      <td>3.000000</td>\n",
              "      <td>1590.000000</td>\n",
              "      <td>0.000000</td>\n",
              "      <td>1976.000000</td>\n",
              "      <td>0.000000</td>\n",
              "    </tr>\n",
              "    <tr>\n",
              "      <th>75%</th>\n",
              "      <td>6.549625e+05</td>\n",
              "      <td>4.000000</td>\n",
              "      <td>2.500000</td>\n",
              "      <td>2620.000000</td>\n",
              "      <td>1.100125e+04</td>\n",
              "      <td>2.000000</td>\n",
              "      <td>0.000000</td>\n",
              "      <td>0.000000</td>\n",
              "      <td>4.000000</td>\n",
              "      <td>2300.000000</td>\n",
              "      <td>610.000000</td>\n",
              "      <td>1997.000000</td>\n",
              "      <td>1999.000000</td>\n",
              "    </tr>\n",
              "    <tr>\n",
              "      <th>max</th>\n",
              "      <td>2.659000e+07</td>\n",
              "      <td>9.000000</td>\n",
              "      <td>8.000000</td>\n",
              "      <td>13540.000000</td>\n",
              "      <td>1.074218e+06</td>\n",
              "      <td>3.500000</td>\n",
              "      <td>1.000000</td>\n",
              "      <td>4.000000</td>\n",
              "      <td>5.000000</td>\n",
              "      <td>9410.000000</td>\n",
              "      <td>4820.000000</td>\n",
              "      <td>2014.000000</td>\n",
              "      <td>2014.000000</td>\n",
              "    </tr>\n",
              "  </tbody>\n",
              "</table>\n",
              "</div>"
            ],
            "text/plain": [
              "              price     bedrooms  ...     yr_built  yr_renovated\n",
              "count  4.600000e+03  4600.000000  ...  4600.000000   4600.000000\n",
              "mean   5.519630e+05     3.400870  ...  1970.786304    808.608261\n",
              "std    5.638347e+05     0.908848  ...    29.731848    979.414536\n",
              "min    0.000000e+00     0.000000  ...  1900.000000      0.000000\n",
              "25%    3.228750e+05     3.000000  ...  1951.000000      0.000000\n",
              "50%    4.609435e+05     3.000000  ...  1976.000000      0.000000\n",
              "75%    6.549625e+05     4.000000  ...  1997.000000   1999.000000\n",
              "max    2.659000e+07     9.000000  ...  2014.000000   2014.000000\n",
              "\n",
              "[8 rows x 13 columns]"
            ]
          },
          "metadata": {
            "tags": []
          },
          "execution_count": 128
        }
      ]
    },
    {
      "cell_type": "code",
      "metadata": {
        "colab": {
          "base_uri": "https://localhost:8080/"
        },
        "id": "G25Ds9pdn0t6",
        "outputId": "2e927b1b-4e49-47e6-ec90-55d03f821226"
      },
      "source": [
        "house.info()"
      ],
      "execution_count": 129,
      "outputs": [
        {
          "output_type": "stream",
          "text": [
            "<class 'pandas.core.frame.DataFrame'>\n",
            "RangeIndex: 4600 entries, 0 to 4599\n",
            "Data columns (total 18 columns):\n",
            " #   Column         Non-Null Count  Dtype  \n",
            "---  ------         --------------  -----  \n",
            " 0   date           4600 non-null   object \n",
            " 1   price          4600 non-null   float64\n",
            " 2   bedrooms       4600 non-null   float64\n",
            " 3   bathrooms      4600 non-null   float64\n",
            " 4   sqft_living    4600 non-null   int64  \n",
            " 5   sqft_lot       4600 non-null   int64  \n",
            " 6   floors         4600 non-null   float64\n",
            " 7   waterfront     4600 non-null   int64  \n",
            " 8   view           4600 non-null   int64  \n",
            " 9   condition      4600 non-null   int64  \n",
            " 10  sqft_above     4600 non-null   int64  \n",
            " 11  sqft_basement  4600 non-null   int64  \n",
            " 12  yr_built       4600 non-null   int64  \n",
            " 13  yr_renovated   4600 non-null   int64  \n",
            " 14  street         4600 non-null   object \n",
            " 15  city           4600 non-null   object \n",
            " 16  statezip       4600 non-null   object \n",
            " 17  country        4600 non-null   object \n",
            "dtypes: float64(4), int64(9), object(5)\n",
            "memory usage: 647.0+ KB\n"
          ],
          "name": "stdout"
        }
      ]
    },
    {
      "cell_type": "markdown",
      "metadata": {
        "id": "LpaNx_KUXjR2"
      },
      "source": [
        "change statezip into factor"
      ]
    },
    {
      "cell_type": "code",
      "metadata": {
        "id": "xDF7RqT0XYsT"
      },
      "source": [
        " #change statezip into factor  \n",
        "\n",
        "house['statezip'] = house['statezip'].astype('category')"
      ],
      "execution_count": 130,
      "outputs": []
    },
    {
      "cell_type": "markdown",
      "metadata": {
        "id": "G0t5aC7YX2EK"
      },
      "source": [
        "change bedrooms, bathrooms into integers"
      ]
    },
    {
      "cell_type": "code",
      "metadata": {
        "id": "YOIGOnexYXX-"
      },
      "source": [
        "house['bedrooms'] = house['bedrooms'].astype('int64') #change bedrooms, bathrooms into integers\n",
        "house['bathrooms'] = house['bathrooms'].astype('int64')"
      ],
      "execution_count": 131,
      "outputs": []
    },
    {
      "cell_type": "code",
      "metadata": {
        "colab": {
          "base_uri": "https://localhost:8080/"
        },
        "id": "rlC5evocY4KV",
        "outputId": "483b97e5-4b86-4a2b-aef6-65cd2085f58a"
      },
      "source": [
        "house.info()"
      ],
      "execution_count": 132,
      "outputs": [
        {
          "output_type": "stream",
          "text": [
            "<class 'pandas.core.frame.DataFrame'>\n",
            "RangeIndex: 4600 entries, 0 to 4599\n",
            "Data columns (total 18 columns):\n",
            " #   Column         Non-Null Count  Dtype   \n",
            "---  ------         --------------  -----   \n",
            " 0   date           4600 non-null   object  \n",
            " 1   price          4600 non-null   float64 \n",
            " 2   bedrooms       4600 non-null   int64   \n",
            " 3   bathrooms      4600 non-null   int64   \n",
            " 4   sqft_living    4600 non-null   int64   \n",
            " 5   sqft_lot       4600 non-null   int64   \n",
            " 6   floors         4600 non-null   float64 \n",
            " 7   waterfront     4600 non-null   int64   \n",
            " 8   view           4600 non-null   int64   \n",
            " 9   condition      4600 non-null   int64   \n",
            " 10  sqft_above     4600 non-null   int64   \n",
            " 11  sqft_basement  4600 non-null   int64   \n",
            " 12  yr_built       4600 non-null   int64   \n",
            " 13  yr_renovated   4600 non-null   int64   \n",
            " 14  street         4600 non-null   object  \n",
            " 15  city           4600 non-null   object  \n",
            " 16  statezip       4600 non-null   category\n",
            " 17  country        4600 non-null   object  \n",
            "dtypes: category(1), float64(2), int64(11), object(4)\n",
            "memory usage: 618.7+ KB\n"
          ],
          "name": "stdout"
        }
      ]
    },
    {
      "cell_type": "markdown",
      "metadata": {
        "id": "2IBFs-jgtKrf"
      },
      "source": [
        "to see the count of country in dataset "
      ]
    },
    {
      "cell_type": "code",
      "metadata": {
        "colab": {
          "base_uri": "https://localhost:8080/"
        },
        "id": "W3hMYQ-IswqR",
        "outputId": "e64dfcfb-f8c9-4a0e-c880-c8c1d6c4e0d7"
      },
      "source": [
        "house.country.value_counts() #to see the count of country in dataset"
      ],
      "execution_count": 133,
      "outputs": [
        {
          "output_type": "execute_result",
          "data": {
            "text/plain": [
              "USA    4600\n",
              "Name: country, dtype: int64"
            ]
          },
          "metadata": {
            "tags": []
          },
          "execution_count": 133
        }
      ]
    },
    {
      "cell_type": "markdown",
      "metadata": {
        "id": "JWcBjwbItpF8"
      },
      "source": [
        "to see how many city in dataset "
      ]
    },
    {
      "cell_type": "code",
      "metadata": {
        "colab": {
          "base_uri": "https://localhost:8080/"
        },
        "id": "8HrP_aWGtgoZ",
        "outputId": "3bd56582-4ea7-424d-d0ec-0ef2c0a8bdbe"
      },
      "source": [
        "house.city.value_counts() #to see how many city in dataset\n",
        "\n"
      ],
      "execution_count": 134,
      "outputs": [
        {
          "output_type": "execute_result",
          "data": {
            "text/plain": [
              "Seattle                1573\n",
              "Renton                  293\n",
              "Bellevue                286\n",
              "Redmond                 235\n",
              "Issaquah                187\n",
              "Kirkland                187\n",
              "Kent                    185\n",
              "Auburn                  176\n",
              "Sammamish               175\n",
              "Federal Way             148\n",
              "Shoreline               123\n",
              "Woodinville             115\n",
              "Maple Valley             96\n",
              "Mercer Island            86\n",
              "Burien                   74\n",
              "Snoqualmie               71\n",
              "Kenmore                  66\n",
              "Des Moines               58\n",
              "North Bend               50\n",
              "Covington                43\n",
              "Duvall                   42\n",
              "Lake Forest Park         36\n",
              "Newcastle                33\n",
              "Bothell                  33\n",
              "Vashon                   29\n",
              "Tukwila                  29\n",
              "SeaTac                   29\n",
              "Enumclaw                 28\n",
              "Carnation                22\n",
              "Normandy Park            18\n",
              "Fall City                11\n",
              "Clyde Hill               11\n",
              "Medina                   11\n",
              "Black Diamond             9\n",
              "Ravensdale                7\n",
              "Pacific                   6\n",
              "Algona                    5\n",
              "Yarrow Point              4\n",
              "Skykomish                 3\n",
              "Preston                   2\n",
              "Milton                    2\n",
              "Inglewood-Finn Hill       1\n",
              "Beaux Arts Village        1\n",
              "Snoqualmie Pass           1\n",
              "Name: city, dtype: int64"
            ]
          },
          "metadata": {
            "tags": []
          },
          "execution_count": 134
        }
      ]
    },
    {
      "cell_type": "code",
      "metadata": {
        "colab": {
          "base_uri": "https://localhost:8080/"
        },
        "id": "hbmFfzCsvJwr",
        "outputId": "32a34129-d36f-4b04-be7f-2a852dfdd9a8"
      },
      "source": [
        "house.statezip.value_counts()\n"
      ],
      "execution_count": 135,
      "outputs": [
        {
          "output_type": "execute_result",
          "data": {
            "text/plain": [
              "WA 98103    148\n",
              "WA 98052    135\n",
              "WA 98117    132\n",
              "WA 98115    130\n",
              "WA 98006    110\n",
              "           ... \n",
              "WA 98047      6\n",
              "WA 98288      3\n",
              "WA 98050      2\n",
              "WA 98354      2\n",
              "WA 98068      1\n",
              "Name: statezip, Length: 77, dtype: int64"
            ]
          },
          "metadata": {
            "tags": []
          },
          "execution_count": 135
        }
      ]
    },
    {
      "cell_type": "markdown",
      "metadata": {
        "id": "pAXQ7oymwOmb"
      },
      "source": [
        "since I have statezip I do not need to city and street columns\n",
        "also i deleted contry and date columns because they do not neccessary "
      ]
    },
    {
      "cell_type": "code",
      "metadata": {
        "id": "t1QxSh4-vctB"
      },
      "source": [
        "house.drop(['date','street', 'city', 'country'], axis = 1, inplace = True) #drop columns of data, street, city, country because they aren't neccessary here "
      ],
      "execution_count": 136,
      "outputs": []
    },
    {
      "cell_type": "code",
      "metadata": {
        "colab": {
          "base_uri": "https://localhost:8080/",
          "height": 224
        },
        "id": "hygMQbDuxGrJ",
        "outputId": "24fd5e81-4593-47c8-c1e9-f497c4acb28d"
      },
      "source": [
        "house.head() #to see data head after drop columns"
      ],
      "execution_count": 137,
      "outputs": [
        {
          "output_type": "execute_result",
          "data": {
            "text/html": [
              "<div>\n",
              "<style scoped>\n",
              "    .dataframe tbody tr th:only-of-type {\n",
              "        vertical-align: middle;\n",
              "    }\n",
              "\n",
              "    .dataframe tbody tr th {\n",
              "        vertical-align: top;\n",
              "    }\n",
              "\n",
              "    .dataframe thead th {\n",
              "        text-align: right;\n",
              "    }\n",
              "</style>\n",
              "<table border=\"1\" class=\"dataframe\">\n",
              "  <thead>\n",
              "    <tr style=\"text-align: right;\">\n",
              "      <th></th>\n",
              "      <th>price</th>\n",
              "      <th>bedrooms</th>\n",
              "      <th>bathrooms</th>\n",
              "      <th>sqft_living</th>\n",
              "      <th>sqft_lot</th>\n",
              "      <th>floors</th>\n",
              "      <th>waterfront</th>\n",
              "      <th>view</th>\n",
              "      <th>condition</th>\n",
              "      <th>sqft_above</th>\n",
              "      <th>sqft_basement</th>\n",
              "      <th>yr_built</th>\n",
              "      <th>yr_renovated</th>\n",
              "      <th>statezip</th>\n",
              "    </tr>\n",
              "  </thead>\n",
              "  <tbody>\n",
              "    <tr>\n",
              "      <th>0</th>\n",
              "      <td>313000.0</td>\n",
              "      <td>3</td>\n",
              "      <td>1</td>\n",
              "      <td>1340</td>\n",
              "      <td>7912</td>\n",
              "      <td>1.5</td>\n",
              "      <td>0</td>\n",
              "      <td>0</td>\n",
              "      <td>3</td>\n",
              "      <td>1340</td>\n",
              "      <td>0</td>\n",
              "      <td>1955</td>\n",
              "      <td>2005</td>\n",
              "      <td>WA 98133</td>\n",
              "    </tr>\n",
              "    <tr>\n",
              "      <th>1</th>\n",
              "      <td>2384000.0</td>\n",
              "      <td>5</td>\n",
              "      <td>2</td>\n",
              "      <td>3650</td>\n",
              "      <td>9050</td>\n",
              "      <td>2.0</td>\n",
              "      <td>0</td>\n",
              "      <td>4</td>\n",
              "      <td>5</td>\n",
              "      <td>3370</td>\n",
              "      <td>280</td>\n",
              "      <td>1921</td>\n",
              "      <td>0</td>\n",
              "      <td>WA 98119</td>\n",
              "    </tr>\n",
              "    <tr>\n",
              "      <th>2</th>\n",
              "      <td>342000.0</td>\n",
              "      <td>3</td>\n",
              "      <td>2</td>\n",
              "      <td>1930</td>\n",
              "      <td>11947</td>\n",
              "      <td>1.0</td>\n",
              "      <td>0</td>\n",
              "      <td>0</td>\n",
              "      <td>4</td>\n",
              "      <td>1930</td>\n",
              "      <td>0</td>\n",
              "      <td>1966</td>\n",
              "      <td>0</td>\n",
              "      <td>WA 98042</td>\n",
              "    </tr>\n",
              "    <tr>\n",
              "      <th>3</th>\n",
              "      <td>420000.0</td>\n",
              "      <td>3</td>\n",
              "      <td>2</td>\n",
              "      <td>2000</td>\n",
              "      <td>8030</td>\n",
              "      <td>1.0</td>\n",
              "      <td>0</td>\n",
              "      <td>0</td>\n",
              "      <td>4</td>\n",
              "      <td>1000</td>\n",
              "      <td>1000</td>\n",
              "      <td>1963</td>\n",
              "      <td>0</td>\n",
              "      <td>WA 98008</td>\n",
              "    </tr>\n",
              "    <tr>\n",
              "      <th>4</th>\n",
              "      <td>550000.0</td>\n",
              "      <td>4</td>\n",
              "      <td>2</td>\n",
              "      <td>1940</td>\n",
              "      <td>10500</td>\n",
              "      <td>1.0</td>\n",
              "      <td>0</td>\n",
              "      <td>0</td>\n",
              "      <td>4</td>\n",
              "      <td>1140</td>\n",
              "      <td>800</td>\n",
              "      <td>1976</td>\n",
              "      <td>1992</td>\n",
              "      <td>WA 98052</td>\n",
              "    </tr>\n",
              "  </tbody>\n",
              "</table>\n",
              "</div>"
            ],
            "text/plain": [
              "       price  bedrooms  bathrooms  ...  yr_built  yr_renovated  statezip\n",
              "0   313000.0         3          1  ...      1955          2005  WA 98133\n",
              "1  2384000.0         5          2  ...      1921             0  WA 98119\n",
              "2   342000.0         3          2  ...      1966             0  WA 98042\n",
              "3   420000.0         3          2  ...      1963             0  WA 98008\n",
              "4   550000.0         4          2  ...      1976          1992  WA 98052\n",
              "\n",
              "[5 rows x 14 columns]"
            ]
          },
          "metadata": {
            "tags": []
          },
          "execution_count": 137
        }
      ]
    },
    {
      "cell_type": "markdown",
      "metadata": {
        "id": "g5e9V9wUHD3Q"
      },
      "source": [
        "see the min and max price values in data "
      ]
    },
    {
      "cell_type": "code",
      "metadata": {
        "id": "t0JZLrrqHIeU"
      },
      "source": [
        ""
      ],
      "execution_count": 137,
      "outputs": []
    },
    {
      "cell_type": "code",
      "metadata": {
        "colab": {
          "base_uri": "https://localhost:8080/"
        },
        "id": "rFfF1Tyb4HHI",
        "outputId": "fa62360d-539d-452b-e958-63bda0ce9384"
      },
      "source": [
        "house.price.value_counts() #count values of price column "
      ],
      "execution_count": 138,
      "outputs": [
        {
          "output_type": "execute_result",
          "data": {
            "text/plain": [
              "0.0         49\n",
              "300000.0    42\n",
              "400000.0    31\n",
              "450000.0    29\n",
              "600000.0    29\n",
              "            ..\n",
              "586500.0     1\n",
              "693000.0     1\n",
              "226500.0     1\n",
              "257200.0     1\n",
              "256000.0     1\n",
              "Name: price, Length: 1741, dtype: int64"
            ]
          },
          "metadata": {
            "tags": []
          },
          "execution_count": 138
        }
      ]
    },
    {
      "cell_type": "markdown",
      "metadata": {
        "id": "nWMWI4pW4NTK"
      },
      "source": [
        " the data have 49 values of price is 0. "
      ]
    },
    {
      "cell_type": "code",
      "metadata": {
        "colab": {
          "base_uri": "https://localhost:8080/"
        },
        "id": "_g93QA-8B1pv",
        "outputId": "c9be043d-90f2-40f5-a455-9e5f0bc0fd27"
      },
      "source": [
        "house.bedrooms.value_counts() #count values of bedrooms column"
      ],
      "execution_count": 139,
      "outputs": [
        {
          "output_type": "execute_result",
          "data": {
            "text/plain": [
              "3    2032\n",
              "4    1531\n",
              "2     566\n",
              "5     353\n",
              "6      61\n",
              "1      38\n",
              "7      14\n",
              "8       2\n",
              "0       2\n",
              "9       1\n",
              "Name: bedrooms, dtype: int64"
            ]
          },
          "metadata": {
            "tags": []
          },
          "execution_count": 139
        }
      ]
    },
    {
      "cell_type": "code",
      "metadata": {
        "id": "yStSUx7QCpCl",
        "colab": {
          "base_uri": "https://localhost:8080/"
        },
        "outputId": "49fc7f9a-008e-42fa-b7e4-12e2105469e2"
      },
      "source": [
        "house.bathrooms.value_counts() #count values of bathrooms column "
      ],
      "execution_count": 140,
      "outputs": [
        {
          "output_type": "execute_result",
          "data": {
            "text/plain": [
              "2    2311\n",
              "1    1666\n",
              "3     502\n",
              "4      82\n",
              "0      19\n",
              "5      15\n",
              "6       4\n",
              "8       1\n",
              "Name: bathrooms, dtype: int64"
            ]
          },
          "metadata": {
            "tags": []
          },
          "execution_count": 140
        }
      ]
    },
    {
      "cell_type": "markdown",
      "metadata": {
        "id": "l48QoOLKZq_A"
      },
      "source": [
        "floors"
      ]
    },
    {
      "cell_type": "code",
      "metadata": {
        "colab": {
          "base_uri": "https://localhost:8080/"
        },
        "id": "Q4x1rF4IZs3b",
        "outputId": "0da51784-4563-46f8-a957-77966cd0d840"
      },
      "source": [
        "house.floors.value_counts() #count values of floors column "
      ],
      "execution_count": 141,
      "outputs": [
        {
          "output_type": "execute_result",
          "data": {
            "text/plain": [
              "1.0    2174\n",
              "2.0    1811\n",
              "1.5     444\n",
              "3.0     128\n",
              "2.5      41\n",
              "3.5       2\n",
              "Name: floors, dtype: int64"
            ]
          },
          "metadata": {
            "tags": []
          },
          "execution_count": 141
        }
      ]
    },
    {
      "cell_type": "markdown",
      "metadata": {
        "id": "yqPhEbdgZ9Rh"
      },
      "source": [
        "view "
      ]
    },
    {
      "cell_type": "code",
      "metadata": {
        "colab": {
          "base_uri": "https://localhost:8080/"
        },
        "id": "-wPgtZrsZ_au",
        "outputId": "520eaba4-657b-451e-aa26-212233f1b8d4"
      },
      "source": [
        "house.view.value_counts() #count values of view column "
      ],
      "execution_count": 142,
      "outputs": [
        {
          "output_type": "execute_result",
          "data": {
            "text/plain": [
              "0    4140\n",
              "2     205\n",
              "3     116\n",
              "4      70\n",
              "1      69\n",
              "Name: view, dtype: int64"
            ]
          },
          "metadata": {
            "tags": []
          },
          "execution_count": 142
        }
      ]
    },
    {
      "cell_type": "markdown",
      "metadata": {
        "id": "hFXEMzRSarSq"
      },
      "source": [
        "the view column have 4140 values is 0 "
      ]
    },
    {
      "cell_type": "markdown",
      "metadata": {
        "id": "LPgp4lAtaIDL"
      },
      "source": [
        "waterfront"
      ]
    },
    {
      "cell_type": "code",
      "metadata": {
        "colab": {
          "base_uri": "https://localhost:8080/"
        },
        "id": "zex8wUkiaNEl",
        "outputId": "711891bf-10a8-499b-a828-245d64505a8f"
      },
      "source": [
        "house.waterfront.value_counts() #count values of waterfront column "
      ],
      "execution_count": 143,
      "outputs": [
        {
          "output_type": "execute_result",
          "data": {
            "text/plain": [
              "0    4567\n",
              "1      33\n",
              "Name: waterfront, dtype: int64"
            ]
          },
          "metadata": {
            "tags": []
          },
          "execution_count": 143
        }
      ]
    },
    {
      "cell_type": "markdown",
      "metadata": {
        "id": "gvP9xja-aVPW"
      },
      "source": [
        "the waterfront column have 4567 values is 0 "
      ]
    },
    {
      "cell_type": "markdown",
      "metadata": {
        "id": "xO1Yw5cJHoFH"
      },
      "source": [
        "**correlation:**"
      ]
    },
    {
      "cell_type": "code",
      "metadata": {
        "id": "o6e58Tw1Hw9V"
      },
      "source": [
        "frame_for_matrix = house[[ 'price', 'bedrooms', 'bathrooms', 'sqft_living', 'sqft_lot',\n",
        "       'floors', 'waterfront', 'view', 'condition', 'sqft_above',\n",
        "       'sqft_basement', 'yr_built', 'yr_renovated']]  #make data fram for correlation "
      ],
      "execution_count": 144,
      "outputs": []
    },
    {
      "cell_type": "code",
      "metadata": {
        "colab": {
          "base_uri": "https://localhost:8080/",
          "height": 442
        },
        "id": "dX47OxiiHuLR",
        "outputId": "d609190b-b296-4db8-b000-5946ce2f4b46"
      },
      "source": [
        "corr = frame_for_matrix.corr() \n",
        "\n",
        "f,ax=plt.subplots(figsize=(9,6))\n",
        "sns.heatmap(corr,annot=True,linewidths=1.5,fmt='.2f',ax=ax)\n",
        "plt.show()  #correlation visualization "
      ],
      "execution_count": 145,
      "outputs": [
        {
          "output_type": "display_data",
          "data": {
            "image/png": "[encoded data removed]",
            "text/plain": [
              "<Figure size 648x432 with 2 Axes>"
            ]
          },
          "metadata": {
            "tags": [],
            "needs_background": "light"
          }
        }
      ]
    },
    {
      "cell_type": "markdown",
      "metadata": {
        "id": "D40ldQg3HtmB"
      },
      "source": [
        "notes : \n",
        "\n",
        " \n",
        "\n",
        "*   the price and amount of sqft_living are correlated, if size of sqft_living increase prices also increase \n",
        "\n",
        "* the sqft living and sqft above are \n",
        "highly correlated 0.88\n",
        "\n",
        "* \n",
        "\n",
        "\n",
        "\n"
      ]
    },
    {
      "cell_type": "markdown",
      "metadata": {
        "id": "2eYrlpUvUsHQ"
      },
      "source": [
        "**show the outliers using plotbox:**"
      ]
    },
    {
      "cell_type": "code",
      "metadata": {
        "colab": {
          "base_uri": "https://localhost:8080/",
          "height": 458
        },
        "id": "vVCZwfNKU1_q",
        "outputId": "ef9129e2-f8e5-4775-b5f1-13eada57edfb"
      },
      "source": [
        "plt.figure(figsize=(10, 7)) #to see outliers in dataset \n",
        "plt.subplot(2,2,1)\n",
        "sns.boxplot(x = 'bedrooms', data = house).set_title('bedrooms Boxplot')\n",
        "plt.subplot(2,2,2)\n",
        "sns.boxplot(x = 'bathrooms', data = house).set_title('bathrooms Boxplot')\n",
        "plt.subplot(2,2,3)\n",
        "sns.boxplot(x = 'floors', data = house).set_title('floors Boxplot')\n",
        "plt.subplot(2,2,4)\n",
        "sns.boxplot(x = 'view',  data = house).set_title('view Boxplot')\n",
        "\n",
        "\n",
        "plt.show()"
      ],
      "execution_count": 146,
      "outputs": [
        {
          "output_type": "display_data",
          "data": {
            "image/png": "[encoded data removed]",
            "text/plain": [
              "<Figure size 720x504 with 4 Axes>"
            ]
          },
          "metadata": {
            "tags": [],
            "needs_background": "light"
          }
        }
      ]
    },
    {
      "cell_type": "markdown",
      "metadata": {
        "id": "eJ_brOkAmmkE"
      },
      "source": [
        "it seems that we have outliers in data "
      ]
    },
    {
      "cell_type": "markdown",
      "metadata": {
        "id": "2lEwl2p_bvXS"
      },
      "source": [
        "##**Machine learning:**"
      ]
    },
    {
      "cell_type": "markdown",
      "metadata": {
        "id": "dk5HFts0cC1N"
      },
      "source": [
        "the main goal is to predict house price using some of machine learning algorthim i have learned "
      ]
    },
    {
      "cell_type": "markdown",
      "metadata": {
        "id": "QqOWojEjcZO-"
      },
      "source": [
        "**Feature Enginnering**:"
      ]
    },
    {
      "cell_type": "markdown",
      "metadata": {
        "id": "IWIPuum5o39A"
      },
      "source": [
        "* missing valuse\n",
        "* replace 0 values with means \n",
        "* scalling features\n",
        "* normalize data \n",
        "* Processing categorical features "
      ]
    },
    {
      "cell_type": "markdown",
      "metadata": {
        "id": "GLoKL4Tza_hk"
      },
      "source": [
        "**see the distribution of target varibale:**"
      ]
    },
    {
      "cell_type": "code",
      "metadata": {
        "colab": {
          "base_uri": "https://localhost:8080/",
          "height": 361
        },
        "id": "2f6svnYqQYaK",
        "outputId": "d5eef3f3-5237-4169-dddb-47b12958ed99"
      },
      "source": [
        "sns.distplot(house['price']) #viualize distribution of price "
      ],
      "execution_count": 173,
      "outputs": [
        {
          "output_type": "stream",
          "text": [
            "/usr/local/lib/python3.6/dist-packages/seaborn/distributions.py:2551: FutureWarning: `distplot` is a deprecated function and will be removed in a future version. Please adapt your code to use either `displot` (a figure-level function with similar flexibility) or `histplot` (an axes-level function for histograms).\n",
            "  warnings.warn(msg, FutureWarning)\n"
          ],
          "name": "stderr"
        },
        {
          "output_type": "execute_result",
          "data": {
            "text/plain": [
              "<matplotlib.axes._subplots.AxesSubplot at 0x7fdc154b1c18>"
            ]
          },
          "metadata": {
            "tags": []
          },
          "execution_count": 173
        },
        {
          "output_type": "display_data",
          "data": {
            "image/png": "[encoded data removed]",
            "text/plain": [
              "<Figure size 432x288 with 1 Axes>"
            ]
          },
          "metadata": {
            "tags": [],
            "needs_background": "light"
          }
        }
      ]
    },
    {
      "cell_type": "markdown",
      "metadata": {
        "id": "KyNLASVzQrTG"
      },
      "source": [
        "it is obvious that price is positively skewed. "
      ]
    },
    {
      "cell_type": "markdown",
      "metadata": {
        "id": "jhsL9fSyrPvO"
      },
      "source": [
        "**Missing values:**"
      ]
    },
    {
      "cell_type": "markdown",
      "metadata": {
        "id": "87hwm89gqNzt"
      },
      "source": [
        "check if the data has missing values "
      ]
    },
    {
      "cell_type": "code",
      "metadata": {
        "colab": {
          "base_uri": "https://localhost:8080/"
        },
        "id": "BkeAekRQo_TW",
        "outputId": "296fef63-ab34-47f1-dbba-1f1f2efa21a4"
      },
      "source": [
        "house.isnull().sum() #check if data has missing values "
      ],
      "execution_count": 148,
      "outputs": [
        {
          "output_type": "execute_result",
          "data": {
            "text/plain": [
              "price            0\n",
              "bedrooms         0\n",
              "bathrooms        0\n",
              "sqft_living      0\n",
              "sqft_lot         0\n",
              "floors           0\n",
              "waterfront       0\n",
              "view             0\n",
              "condition        0\n",
              "sqft_above       0\n",
              "sqft_basement    0\n",
              "yr_built         0\n",
              "yr_renovated     0\n",
              "statezip         0\n",
              "dtype: int64"
            ]
          },
          "metadata": {
            "tags": []
          },
          "execution_count": 148
        }
      ]
    },
    {
      "cell_type": "code",
      "metadata": {
        "id": "BbwQOKYarmbw"
      },
      "source": [
        ""
      ],
      "execution_count": 148,
      "outputs": []
    },
    {
      "cell_type": "markdown",
      "metadata": {
        "id": "u4-LJmEGqToq"
      },
      "source": [
        "the data has no missing values."
      ]
    },
    {
      "cell_type": "markdown",
      "metadata": {
        "id": "T30wdHjErpVP"
      },
      "source": [
        "**replace 0 value in price with means:**"
      ]
    },
    {
      "cell_type": "markdown",
      "metadata": {
        "id": "ewHCAUI7rX3I"
      },
      "source": [
        "replace 0 values in price with means "
      ]
    },
    {
      "cell_type": "code",
      "metadata": {
        "id": "JZnOp9KlsVp9"
      },
      "source": [
        "nonzero_mean = house[ house.price != 0 ].mean()  #replace 0 values in price with means"
      ],
      "execution_count": 149,
      "outputs": []
    },
    {
      "cell_type": "code",
      "metadata": {
        "id": "KlfrmIEtuPV2",
        "colab": {
          "base_uri": "https://localhost:8080/",
          "height": 164
        },
        "outputId": "fd833c49-0cd3-424f-cbb5-8bd9464f6d06"
      },
      "source": [
        "house.loc[ house.price == 0, \"price\" ] = nonzero_mean()"
      ],
      "execution_count": 150,
      "outputs": [
        {
          "output_type": "error",
          "ename": "TypeError",
          "evalue": "ignored",
          "traceback": [
            "\u001b[0;31m---------------------------------------------------------------------------\u001b[0m",
            "\u001b[0;31mTypeError\u001b[0m                                 Traceback (most recent call last)",
            "\u001b[0;32m<ipython-input-150-88ba1445d3b8>\u001b[0m in \u001b[0;36m<module>\u001b[0;34m()\u001b[0m\n\u001b[0;32m----> 1\u001b[0;31m \u001b[0mhouse\u001b[0m\u001b[0;34m.\u001b[0m\u001b[0mloc\u001b[0m\u001b[0;34m[\u001b[0m \u001b[0mhouse\u001b[0m\u001b[0;34m.\u001b[0m\u001b[0mprice\u001b[0m \u001b[0;34m==\u001b[0m \u001b[0;36m0\u001b[0m\u001b[0;34m,\u001b[0m \u001b[0;34m\"price\"\u001b[0m \u001b[0;34m]\u001b[0m \u001b[0;34m=\u001b[0m \u001b[0mnonzero_mean\u001b[0m\u001b[0;34m(\u001b[0m\u001b[0;34m)\u001b[0m\u001b[0;34m\u001b[0m\u001b[0;34m\u001b[0m\u001b[0m\n\u001b[0m",
            "\u001b[0;31mTypeError\u001b[0m: 'Series' object is not callable"
          ]
        }
      ]
    },
    {
      "cell_type": "code",
      "metadata": {
        "id": "HAeaJ8fuuhJv"
      },
      "source": [
        "print(nonzero_mean)"
      ],
      "execution_count": null,
      "outputs": []
    },
    {
      "cell_type": "code",
      "metadata": {
        "id": "TPf76NydutJh"
      },
      "source": [
        "house.describe()"
      ],
      "execution_count": null,
      "outputs": []
    },
    {
      "cell_type": "markdown",
      "metadata": {
        "id": "3I204o9MyXJv"
      },
      "source": [
        "**Feature reduction**:\n",
        "\n",
        "\n",
        " sqft_living is heighly correlated with sqft_above \n",
        " so i am going to remove the sqft_above feature. \n"
      ]
    },
    {
      "cell_type": "code",
      "metadata": {
        "id": "Yy660behxCvu"
      },
      "source": [
        "house.drop(['sqft_above'], axis = 1, inplace = True)\n",
        "house.shape #drop sqft_above feature"
      ],
      "execution_count": null,
      "outputs": []
    },
    {
      "cell_type": "markdown",
      "metadata": {
        "id": "zg2hp2Sa0HIH"
      },
      "source": [
        "**Scalling**:"
      ]
    },
    {
      "cell_type": "code",
      "metadata": {
        "id": "RjJr2aNl1eGw"
      },
      "source": [
        "feature_scale=[feature for feature in house.columns if feature not in ['price','statezip']]\n",
        "#scalling features \n",
        "scaler=MinMaxScaler()\n",
        "scaler.fit(house[feature_scale])"
      ],
      "execution_count": null,
      "outputs": []
    },
    {
      "cell_type": "code",
      "metadata": {
        "id": "OEnyJ9jrtPQK"
      },
      "source": [
        "scaler.transform(house[feature_scale])"
      ],
      "execution_count": null,
      "outputs": []
    },
    {
      "cell_type": "markdown",
      "metadata": {
        "id": "g9DFz03UvAEN"
      },
      "source": [
        "**Processing categorical features:**"
      ]
    },
    {
      "cell_type": "code",
      "metadata": {
        "id": "h9KnWg2gvIGf"
      },
      "source": [
        "house = pd.DataFrame(house, columns = [ 'statezip'])"
      ],
      "execution_count": null,
      "outputs": []
    },
    {
      "cell_type": "code",
      "metadata": {
        "id": "k9M6DQBrvYDw"
      },
      "source": [
        "# Create dummy variables for every unique category in house1.statezip\n",
        "pd.get_dummies(house1[\"statezip\"])"
      ],
      "execution_count": null,
      "outputs": []
    },
    {
      "cell_type": "markdown",
      "metadata": {
        "id": "xYanEAiZzYeS"
      },
      "source": [
        "**normalize data**:\n",
        " "
      ]
    },
    {
      "cell_type": "code",
      "metadata": {
        "id": "-YJBjxmjzf-l"
      },
      "source": [
        "scalar = MinMaxScaler(feature_range=(0, 1))"
      ],
      "execution_count": null,
      "outputs": []
    },
    {
      "cell_type": "markdown",
      "metadata": {
        "id": "QZ_elhlg61H7"
      },
      "source": [
        "**Data splitting**: "
      ]
    },
    {
      "cell_type": "code",
      "metadata": {
        "id": "keRkVYKy6F3R"
      },
      "source": [
        "X = house.drop(columns = ['price', 'statezip'])\n",
        "y = house['price']"
      ],
      "execution_count": 160,
      "outputs": []
    },
    {
      "cell_type": "code",
      "metadata": {
        "id": "DAUbQoYNJtXP"
      },
      "source": [
        "scalar = StandardScaler() #scaler \n",
        "X_scaled = scalar.fit_transform(X)"
      ],
      "execution_count": 162,
      "outputs": []
    },
    {
      "cell_type": "code",
      "metadata": {
        "colab": {
          "base_uri": "https://localhost:8080/"
        },
        "id": "vpV6ktnAJ3Mv",
        "outputId": "d870c119-b924-4e95-d740-02186537466b"
      },
      "source": [
        "X_scaled"
      ],
      "execution_count": 163,
      "outputs": [
        {
          "output_type": "execute_result",
          "data": {
            "text/plain": [
              "array([[-0.44112227, -1.04894211, -0.82997105, ..., -0.67246372,\n",
              "        -0.53101376,  1.22167046],\n",
              "       [ 1.75970468,  0.28066211,  1.56852826, ..., -0.06912828,\n",
              "        -1.67469295, -0.82569345],\n",
              "       [-0.44112227,  0.28066211, -0.21736733, ..., -0.67246372,\n",
              "        -0.1609999 , -0.82569345],\n",
              "       ...,\n",
              "       [-0.44112227,  0.28066211,  0.90400897, ..., -0.67246372,\n",
              "         1.2854179 , -0.82569345],\n",
              "       [ 0.6592912 ,  0.28066211, -0.05123751, ...,  1.5254011 ,\n",
              "         0.10810108, -0.82569345],\n",
              "       [-0.44112227,  0.28066211, -0.67422434, ..., -0.67246372,\n",
              "         0.64630305, -0.82569345]])"
            ]
          },
          "metadata": {
            "tags": []
          },
          "execution_count": 163
        }
      ]
    },
    {
      "cell_type": "markdown",
      "metadata": {
        "id": "x0SiNEN6L9Jy"
      },
      "source": [
        " **split my data into train and test:**"
      ]
    },
    {
      "cell_type": "code",
      "metadata": {
        "id": "YB0YyhRpLtG9"
      },
      "source": [
        "x_train,x_test,y_train,y_test = train_test_split(X_scaled,y, test_size= 0.30, random_state = 123)"
      ],
      "execution_count": 169,
      "outputs": []
    },
    {
      "cell_type": "markdown",
      "metadata": {
        "id": "WoYl2lh8MLIU"
      },
      "source": [
        "**Linear Regression**:"
      ]
    },
    {
      "cell_type": "code",
      "metadata": {
        "id": "ZN1ZhHWZML2R"
      },
      "source": [
        "from sklearn.linear_model import LinearRegression \n",
        "lin_reg = LinearRegression()"
      ],
      "execution_count": 170,
      "outputs": []
    },
    {
      "cell_type": "code",
      "metadata": {
        "colab": {
          "base_uri": "https://localhost:8080/"
        },
        "id": "7IsS_-bENVCY",
        "outputId": "498cc45d-051a-4c2b-e0c7-6d55e8aae0fe"
      },
      "source": [
        "lin_reg.fit(x_train, y_train) #fit model "
      ],
      "execution_count": 172,
      "outputs": [
        {
          "output_type": "execute_result",
          "data": {
            "text/plain": [
              "LinearRegression(copy_X=True, fit_intercept=True, n_jobs=None, normalize=False)"
            ]
          },
          "metadata": {
            "tags": []
          },
          "execution_count": 172
        }
      ]
    },
    {
      "cell_type": "markdown",
      "metadata": {
        "id": "8dzgk5FNRQjy"
      },
      "source": [
        "model performance"
      ]
    },
    {
      "cell_type": "code",
      "metadata": {
        "id": "7sb1SM-wQ5i9"
      },
      "source": [
        "y_pred = lin_reg.predict(x_test)  #model performance "
      ],
      "execution_count": 177,
      "outputs": []
    },
    {
      "cell_type": "code",
      "metadata": {
        "colab": {
          "base_uri": "https://localhost:8080/",
          "height": 181
        },
        "id": "FUiYajuSQ_CT",
        "outputId": "4adf8b80-59d2-4c7b-be10-1f2996c73bb3"
      },
      "source": [
        "accuracy = accuracy_score(y_test,y_pred) #accuracy \n",
        "accuracy"
      ],
      "execution_count": 178,
      "outputs": [
        {
          "output_type": "error",
          "ename": "NameError",
          "evalue": "ignored",
          "traceback": [
            "\u001b[0;31m---------------------------------------------------------------------------\u001b[0m",
            "\u001b[0;31mNameError\u001b[0m                                 Traceback (most recent call last)",
            "\u001b[0;32m<ipython-input-178-c02722eecf5e>\u001b[0m in \u001b[0;36m<module>\u001b[0;34m()\u001b[0m\n\u001b[0;32m----> 1\u001b[0;31m \u001b[0maccuracy\u001b[0m \u001b[0;34m=\u001b[0m \u001b[0maccuracy_score\u001b[0m\u001b[0;34m(\u001b[0m\u001b[0my_test\u001b[0m\u001b[0;34m,\u001b[0m\u001b[0my_pred\u001b[0m\u001b[0;34m)\u001b[0m\u001b[0;34m\u001b[0m\u001b[0;34m\u001b[0m\u001b[0m\n\u001b[0m\u001b[1;32m      2\u001b[0m \u001b[0maccuracy\u001b[0m\u001b[0;34m\u001b[0m\u001b[0;34m\u001b[0m\u001b[0m\n",
            "\u001b[0;31mNameError\u001b[0m: name 'accuracy_score' is not defined"
          ]
        }
      ]
    }
  ]
}